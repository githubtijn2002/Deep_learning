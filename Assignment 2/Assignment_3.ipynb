{
 "cells": [
  {
   "cell_type": "code",
   "execution_count": 3,
   "metadata": {},
   "outputs": [],
   "source": [
    "import numpy as np\n",
    "import torch\n",
    "import torch.nn as nn\n",
    "import torch.optim as optim"
   ]
  },
  {
   "cell_type": "code",
   "execution_count": 20,
   "metadata": {},
   "outputs": [
    {
     "ename": "NameError",
     "evalue": "name 'channel' is not defined",
     "output_type": "error",
     "traceback": [
      "\u001b[1;31m---------------------------------------------------------------------------\u001b[0m",
      "\u001b[1;31mNameError\u001b[0m                                 Traceback (most recent call last)",
      "Cell \u001b[1;32mIn[20], line 2\u001b[0m\n\u001b[0;32m      1\u001b[0m \u001b[38;5;66;03m# Assuming input is x, and x is already padded\u001b[39;00m\n\u001b[1;32m----> 2\u001b[0m c \u001b[38;5;241m=\u001b[39m channel\n\u001b[0;32m      3\u001b[0m h \u001b[38;5;241m=\u001b[39m height\n\u001b[0;32m      4\u001b[0m w \u001b[38;5;241m=\u001b[39m width\n",
      "\u001b[1;31mNameError\u001b[0m: name 'channel' is not defined"
     ]
    }
   ],
   "source": [
    "# Assuming input is x, and x is already padded\n",
    "c = channel\n",
    "h = height\n",
    "w = width\n",
    "ker = kernel\n",
    "s = stride\n",
    "pad = padding\n",
    "\n",
    "output_height = (h - ker + 2*pad) // s + 1\n",
    "output_width = (w - ker + 2*pad) // s + 1\n",
    "\n",
    "k = input_channels * kernel_height * kernel_width  # Flattened patch size\n",
    "p = output_height * output_width  # Total number of patches\n",
    "unfolded = zeros(batch_size, k, p)  # Output tensor\n",
    "\n",
    "for b in range(batch_size):  # Iterate over batches\n",
    "    for oh in range(output_height):  # Iterate over output height\n",
    "        for ow in range(output_width):  # Iterate over output width\n",
    "            patch_flattened = []  # Temporary list to hold patch values\n",
    "\n",
    "            h_start = oh * stride\n",
    "            w_start = ow * stride\n",
    "            for ic in range(input_channels):  # Iterate over input channels\n",
    "                for kh in range(kernel_height):  # Iterate over kernel height\n",
    "                    for kw in range(kernel_width):  # Iterate over kernel width\n",
    "                        patch_flattened.append(\n",
    "                            padded_x[b, ic, h_start + kh, w_start + kw]\n",
    "                        )\n",
    "            # Store the flattened patch in the output tensor\n",
    "            patch_index = oh * output_width + ow\n",
    "            unfolded[b, :, patch_index] = patch_flattened\n",
    "\n",
    "# so the output tensor is of shape (batch_size, k, p)\n"
   ]
  },
  {
   "cell_type": "code",
   "execution_count": 130,
   "metadata": {},
   "outputs": [
    {
     "name": "stdout",
     "output_type": "stream",
     "text": [
      "unfolded size is: torch.Size([16, 27, 1024])\n",
      "unfolded size is: torch.Size([16384, 27])\n",
      "weight size is: torch.Size([3, 9])\n"
     ]
    },
    {
     "ename": "RuntimeError",
     "evalue": "mat1 and mat2 shapes cannot be multiplied (16384x27 and 9x3)",
     "output_type": "error",
     "traceback": [
      "\u001b[1;31m---------------------------------------------------------------------------\u001b[0m",
      "\u001b[1;31mRuntimeError\u001b[0m                              Traceback (most recent call last)",
      "Cell \u001b[1;32mIn[130], line 40\u001b[0m\n\u001b[0;32m     37\u001b[0m conv \u001b[38;5;241m=\u001b[39m Conv2D(\u001b[38;5;241m3\u001b[39m, \u001b[38;5;241m3\u001b[39m)\n\u001b[0;32m     38\u001b[0m input_batch \u001b[38;5;241m=\u001b[39m torch\u001b[38;5;241m.\u001b[39mrandn(\u001b[38;5;241m16\u001b[39m, \u001b[38;5;241m3\u001b[39m, \u001b[38;5;241m32\u001b[39m, \u001b[38;5;241m32\u001b[39m)\n\u001b[1;32m---> 40\u001b[0m output_batch \u001b[38;5;241m=\u001b[39m conv(input_batch)\n\u001b[0;32m     41\u001b[0m output_batch\n\u001b[0;32m     42\u001b[0m \u001b[38;5;28mprint\u001b[39m(input_batch\u001b[38;5;241m.\u001b[39msize())\n",
      "File \u001b[1;32mc:\\Users\\User\\anaconda3\\Lib\\site-packages\\torch\\nn\\modules\\module.py:1736\u001b[0m, in \u001b[0;36mModule._wrapped_call_impl\u001b[1;34m(self, *args, **kwargs)\u001b[0m\n\u001b[0;32m   1734\u001b[0m     \u001b[38;5;28;01mreturn\u001b[39;00m \u001b[38;5;28mself\u001b[39m\u001b[38;5;241m.\u001b[39m_compiled_call_impl(\u001b[38;5;241m*\u001b[39margs, \u001b[38;5;241m*\u001b[39m\u001b[38;5;241m*\u001b[39mkwargs)  \u001b[38;5;66;03m# type: ignore[misc]\u001b[39;00m\n\u001b[0;32m   1735\u001b[0m \u001b[38;5;28;01melse\u001b[39;00m:\n\u001b[1;32m-> 1736\u001b[0m     \u001b[38;5;28;01mreturn\u001b[39;00m \u001b[38;5;28mself\u001b[39m\u001b[38;5;241m.\u001b[39m_call_impl(\u001b[38;5;241m*\u001b[39margs, \u001b[38;5;241m*\u001b[39m\u001b[38;5;241m*\u001b[39mkwargs)\n",
      "File \u001b[1;32mc:\\Users\\User\\anaconda3\\Lib\\site-packages\\torch\\nn\\modules\\module.py:1747\u001b[0m, in \u001b[0;36mModule._call_impl\u001b[1;34m(self, *args, **kwargs)\u001b[0m\n\u001b[0;32m   1742\u001b[0m \u001b[38;5;66;03m# If we don't have any hooks, we want to skip the rest of the logic in\u001b[39;00m\n\u001b[0;32m   1743\u001b[0m \u001b[38;5;66;03m# this function, and just call forward.\u001b[39;00m\n\u001b[0;32m   1744\u001b[0m \u001b[38;5;28;01mif\u001b[39;00m \u001b[38;5;129;01mnot\u001b[39;00m (\u001b[38;5;28mself\u001b[39m\u001b[38;5;241m.\u001b[39m_backward_hooks \u001b[38;5;129;01mor\u001b[39;00m \u001b[38;5;28mself\u001b[39m\u001b[38;5;241m.\u001b[39m_backward_pre_hooks \u001b[38;5;129;01mor\u001b[39;00m \u001b[38;5;28mself\u001b[39m\u001b[38;5;241m.\u001b[39m_forward_hooks \u001b[38;5;129;01mor\u001b[39;00m \u001b[38;5;28mself\u001b[39m\u001b[38;5;241m.\u001b[39m_forward_pre_hooks\n\u001b[0;32m   1745\u001b[0m         \u001b[38;5;129;01mor\u001b[39;00m _global_backward_pre_hooks \u001b[38;5;129;01mor\u001b[39;00m _global_backward_hooks\n\u001b[0;32m   1746\u001b[0m         \u001b[38;5;129;01mor\u001b[39;00m _global_forward_hooks \u001b[38;5;129;01mor\u001b[39;00m _global_forward_pre_hooks):\n\u001b[1;32m-> 1747\u001b[0m     \u001b[38;5;28;01mreturn\u001b[39;00m forward_call(\u001b[38;5;241m*\u001b[39margs, \u001b[38;5;241m*\u001b[39m\u001b[38;5;241m*\u001b[39mkwargs)\n\u001b[0;32m   1749\u001b[0m result \u001b[38;5;241m=\u001b[39m \u001b[38;5;28;01mNone\u001b[39;00m\n\u001b[0;32m   1750\u001b[0m called_always_called_hooks \u001b[38;5;241m=\u001b[39m \u001b[38;5;28mset\u001b[39m()\n",
      "Cell \u001b[1;32mIn[130], line 28\u001b[0m, in \u001b[0;36mConv2D.forward\u001b[1;34m(self, input_batch)\u001b[0m\n\u001b[0;32m     25\u001b[0m \u001b[38;5;28mprint\u001b[39m(\u001b[38;5;124mf\u001b[39m\u001b[38;5;124m'\u001b[39m\u001b[38;5;124mweight size is: \u001b[39m\u001b[38;5;132;01m{\u001b[39;00mweight\u001b[38;5;241m.\u001b[39msize()\u001b[38;5;132;01m}\u001b[39;00m\u001b[38;5;124m'\u001b[39m)\n\u001b[0;32m     27\u001b[0m \u001b[38;5;66;03m# Perform matrix multiplication\u001b[39;00m\n\u001b[1;32m---> 28\u001b[0m output \u001b[38;5;241m=\u001b[39m torch\u001b[38;5;241m.\u001b[39mmm(unfolded, weight\u001b[38;5;241m.\u001b[39mt())\u001b[38;5;241m.\u001b[39mview(b, \u001b[38;5;241m-\u001b[39m\u001b[38;5;241m1\u001b[39m, unfolded\u001b[38;5;241m.\u001b[39msize(\u001b[38;5;241m1\u001b[39m))\n\u001b[0;32m     30\u001b[0m \u001b[38;5;66;03m# Add bias and reshape output to (b, out_channels, output_h, output_w)\u001b[39;00m\n\u001b[0;32m     31\u001b[0m output \u001b[38;5;241m=\u001b[39m output \u001b[38;5;241m+\u001b[39m \u001b[38;5;28mself\u001b[39m\u001b[38;5;241m.\u001b[39mbias\u001b[38;5;241m.\u001b[39mview(\u001b[38;5;241m1\u001b[39m, \u001b[38;5;241m-\u001b[39m\u001b[38;5;241m1\u001b[39m, \u001b[38;5;241m1\u001b[39m)\n",
      "\u001b[1;31mRuntimeError\u001b[0m: mat1 and mat2 shapes cannot be multiplied (16384x27 and 9x3)"
     ]
    }
   ],
   "source": [
    "import torch\n",
    "import torch.nn.functional as F\n",
    "from torch import nn\n",
    "class Conv2D(nn.Module):\n",
    "    def __init__(self,in_channels, out_channels, kernel_size=(3,3),stride=1, padding=1):\n",
    "        super(Conv2D, self).__init__()\n",
    "        self.in_channels = in_channels\n",
    "        self.out_channels = out_channels\n",
    "        self.kernel_size = kernel_size\n",
    "        self.stride = stride\n",
    "        self.padding = padding\n",
    "        self.weight = nn.Parameter(torch.randn(out_channels, *kernel_size))\n",
    "        self.bias = nn.Parameter(torch.randn(out_channels))\n",
    "    def forward(self, input_batch):\n",
    "        b, c, h, w = input_batch.size()\n",
    "        unfolded = F.unfold(input_batch, kernel_size=self.kernel_size, stride=self.stride, padding=self.padding)\n",
    "        print(f'unfolded size is: {unfolded.size()}')\n",
    "        \n",
    "        # Reshape unfolded input to (b * p, k)\n",
    "        unfolded = unfolded.permute(0, 2, 1).reshape(b * unfolded.size(2), -1)\n",
    "        print(f'unfolded size is: {unfolded.size()}')\n",
    "        \n",
    "        # Reshape weight to (out_channels, in_channels * kernel_size[0] * kernel_size[1])\n",
    "        weight = self.weight.view(self.out_channels, -1)\n",
    "        print(f'weight size is: {weight.size()}')\n",
    "        \n",
    "        # Perform matrix multiplication\n",
    "        output = torch.mm(unfolded, weight.t()).view(b, -1, unfolded.size(1))\n",
    "        \n",
    "        # Add bias and reshape output to (b, out_channels, output_h, output_w)\n",
    "        output = output + self.bias.view(1, -1, 1)\n",
    "        output_h = (h + 2 * self.padding - self.kernel_size[0]) // self.stride + 1\n",
    "        output_w = (w + 2 * self.padding - self.kernel_size[1]) // self.stride + 1\n",
    "        output = output.view(b, self.out_channels, output_h, output_w)\n",
    "        \n",
    "        return output        # apply the convolution operation\n",
    "conv = Conv2D(3, 3)\n",
    "input_batch = torch.randn(16, 3, 32, 32)\n",
    "\n",
    "output_batch = conv(input_batch)\n",
    "output_batch\n",
    "print(input_batch.size())\n",
    "conv.weight.size()"
   ]
  },
  {
   "cell_type": "code",
   "execution_count": 82,
   "metadata": {},
   "outputs": [
    {
     "name": "stdout",
     "output_type": "stream",
     "text": [
      "torch.Size([16, 3, 32, 32])\n"
     ]
    },
    {
     "ename": "AttributeError",
     "evalue": "'NoneType' object has no attribute 'size'",
     "output_type": "error",
     "traceback": [
      "\u001b[1;31m---------------------------------------------------------------------------\u001b[0m",
      "\u001b[1;31mAttributeError\u001b[0m                            Traceback (most recent call last)",
      "Cell \u001b[1;32mIn[82], line 2\u001b[0m\n\u001b[0;32m      1\u001b[0m \u001b[38;5;28mprint\u001b[39m(input_batch\u001b[38;5;241m.\u001b[39msize())\n\u001b[1;32m----> 2\u001b[0m \u001b[38;5;28mprint\u001b[39m(output_batch\u001b[38;5;241m.\u001b[39msize())\n",
      "\u001b[1;31mAttributeError\u001b[0m: 'NoneType' object has no attribute 'size'"
     ]
    }
   ],
   "source": [
    "print(input_batch.size())\n",
    "print(output_batch.size())"
   ]
  },
  {
   "cell_type": "code",
   "execution_count": null,
   "metadata": {},
   "outputs": [
    {
     "name": "stdout",
     "output_type": "stream",
     "text": [
      "Parameter containing:\n",
      "tensor([[[-0.0798,  0.9788,  1.1968],\n",
      "         [-0.6824,  1.3893, -1.3727],\n",
      "         [-0.6268, -2.0099, -0.3287]],\n",
      "\n",
      "        [[ 1.4774, -2.4945,  0.3863],\n",
      "         [-0.5913, -0.4336, -0.4694],\n",
      "         [-0.5908, -0.3391, -2.3395]],\n",
      "\n",
      "        [[ 0.7544, -0.0415, -0.3136],\n",
      "         [ 0.0282, -1.0349, -1.5563],\n",
      "         [-0.9184, -0.8614,  0.2192]]], requires_grad=True)\n"
     ]
    }
   ],
   "source": [
    "print(conv.weight)"
   ]
  }
 ],
 "metadata": {
  "kernelspec": {
   "display_name": "base",
   "language": "python",
   "name": "python3"
  },
  "language_info": {
   "codemirror_mode": {
    "name": "ipython",
    "version": 3
   },
   "file_extension": ".py",
   "mimetype": "text/x-python",
   "name": "python",
   "nbconvert_exporter": "python",
   "pygments_lexer": "ipython3",
   "version": "3.11.7"
  }
 },
 "nbformat": 4,
 "nbformat_minor": 2
}
