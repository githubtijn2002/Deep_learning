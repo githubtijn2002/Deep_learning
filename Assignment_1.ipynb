{
 "cells": [
  {
   "cell_type": "code",
   "execution_count": null,
   "metadata": {},
   "outputs": [],
   "source": [
    "from Functions_load import load_synth, load_mnist\n",
    "import math\n",
    "import random"
   ]
  },
  {
   "cell_type": "code",
   "execution_count": 100,
   "metadata": {},
   "outputs": [
    {
     "name": "stdout",
     "output_type": "stream",
     "text": [
      "[105]\n"
     ]
    },
    {
     "data": {
      "text/plain": [
       "array([[35],\n",
       "       [70]])"
      ]
     },
     "execution_count": 100,
     "metadata": {},
     "output_type": "execute_result"
    }
   ],
   "source": [
    "import numpy as np\n",
    "w = [[1,2,3],[2,4,6]]\n",
    "x = [[5,3,8]]\n",
    "\n",
    "# transpose of x\n",
    "x_t = np.transpose(x)\n",
    "\n",
    "doter = np.dot(w,x_t)\n",
    "print(sum(doter))\n",
    "doter\n"
   ]
  },
  {
   "cell_type": "code",
   "execution_count": 127,
   "metadata": {},
   "outputs": [
    {
     "ename": "OverflowError",
     "evalue": "math range error",
     "output_type": "error",
     "traceback": [
      "\u001b[1;31m---------------------------------------------------------------------------\u001b[0m",
      "\u001b[1;31mOverflowError\u001b[0m                             Traceback (most recent call last)",
      "Cell \u001b[1;32mIn[127], line 66\u001b[0m\n\u001b[0;32m     62\u001b[0m (xtrain, ytrain), (xval, yval), num_cls \u001b[38;5;241m=\u001b[39m load_mnist()\n\u001b[0;32m     64\u001b[0m nn \u001b[38;5;241m=\u001b[39m NN(input_size\u001b[38;5;241m=\u001b[39m\u001b[38;5;241m784\u001b[39m, hidden_size\u001b[38;5;241m=\u001b[39m\u001b[38;5;241m300\u001b[39m, output_size\u001b[38;5;241m=\u001b[39m\u001b[38;5;241m10\u001b[39m)\n\u001b[1;32m---> 66\u001b[0m losses \u001b[38;5;241m=\u001b[39m nn\u001b[38;5;241m.\u001b[39mtrain(xtrain[:\u001b[38;5;241m100\u001b[39m], ytrain[:\u001b[38;5;241m100\u001b[39m], epochs\u001b[38;5;241m=\u001b[39m\u001b[38;5;241m1\u001b[39m)\n",
      "Cell \u001b[1;32mIn[127], line 54\u001b[0m, in \u001b[0;36mNN.train\u001b[1;34m(self, x_train, y_train, epochs)\u001b[0m\n\u001b[0;32m     52\u001b[0m total_loss \u001b[38;5;241m=\u001b[39m \u001b[38;5;241m0\u001b[39m\n\u001b[0;32m     53\u001b[0m \u001b[38;5;28;01mfor\u001b[39;00m x, yc \u001b[38;5;129;01min\u001b[39;00m \u001b[38;5;28mzip\u001b[39m(x_train, y_train):\n\u001b[1;32m---> 54\u001b[0m     output \u001b[38;5;241m=\u001b[39m \u001b[38;5;28mself\u001b[39m\u001b[38;5;241m.\u001b[39mforward(x)\n\u001b[0;32m     55\u001b[0m     loss \u001b[38;5;241m=\u001b[39m cross_entropy_loss(yc, output)\n\u001b[0;32m     56\u001b[0m     total_loss \u001b[38;5;241m+\u001b[39m\u001b[38;5;241m=\u001b[39m loss\n",
      "Cell \u001b[1;32mIn[127], line 27\u001b[0m, in \u001b[0;36mNN.forward\u001b[1;34m(self, x)\u001b[0m\n\u001b[0;32m     25\u001b[0m \u001b[38;5;28;01mdef\u001b[39;00m \u001b[38;5;21mforward\u001b[39m(\u001b[38;5;28mself\u001b[39m, x):\n\u001b[0;32m     26\u001b[0m     \u001b[38;5;28mself\u001b[39m\u001b[38;5;241m.\u001b[39mz1 \u001b[38;5;241m=\u001b[39m [np\u001b[38;5;241m.\u001b[39mdot(\u001b[38;5;28mself\u001b[39m\u001b[38;5;241m.\u001b[39mw1[i],x) \u001b[38;5;241m+\u001b[39m \u001b[38;5;28mself\u001b[39m\u001b[38;5;241m.\u001b[39mb1[i] \u001b[38;5;28;01mfor\u001b[39;00m i \u001b[38;5;129;01min\u001b[39;00m \u001b[38;5;28mrange\u001b[39m(\u001b[38;5;28mlen\u001b[39m(\u001b[38;5;28mself\u001b[39m\u001b[38;5;241m.\u001b[39mb1))]\n\u001b[1;32m---> 27\u001b[0m     \u001b[38;5;28mself\u001b[39m\u001b[38;5;241m.\u001b[39ma1 \u001b[38;5;241m=\u001b[39m [sigmoid(z) \u001b[38;5;28;01mfor\u001b[39;00m z \u001b[38;5;129;01min\u001b[39;00m \u001b[38;5;28mself\u001b[39m\u001b[38;5;241m.\u001b[39mz1]\n\u001b[0;32m     28\u001b[0m     \u001b[38;5;28mself\u001b[39m\u001b[38;5;241m.\u001b[39mz2 \u001b[38;5;241m=\u001b[39m [np\u001b[38;5;241m.\u001b[39mdot(\u001b[38;5;28mself\u001b[39m\u001b[38;5;241m.\u001b[39mw2[i],\u001b[38;5;28mself\u001b[39m\u001b[38;5;241m.\u001b[39ma1) \u001b[38;5;241m+\u001b[39m \u001b[38;5;28mself\u001b[39m\u001b[38;5;241m.\u001b[39mb2[i] \u001b[38;5;28;01mfor\u001b[39;00m i \u001b[38;5;129;01min\u001b[39;00m \u001b[38;5;28mrange\u001b[39m(\u001b[38;5;28mlen\u001b[39m(\u001b[38;5;28mself\u001b[39m\u001b[38;5;241m.\u001b[39mb2))]\n\u001b[0;32m     29\u001b[0m     \u001b[38;5;28mself\u001b[39m\u001b[38;5;241m.\u001b[39ma2 \u001b[38;5;241m=\u001b[39m softmax(\u001b[38;5;28mself\u001b[39m\u001b[38;5;241m.\u001b[39mz2)\n",
      "Cell \u001b[1;32mIn[127], line 27\u001b[0m, in \u001b[0;36m<listcomp>\u001b[1;34m(.0)\u001b[0m\n\u001b[0;32m     25\u001b[0m \u001b[38;5;28;01mdef\u001b[39;00m \u001b[38;5;21mforward\u001b[39m(\u001b[38;5;28mself\u001b[39m, x):\n\u001b[0;32m     26\u001b[0m     \u001b[38;5;28mself\u001b[39m\u001b[38;5;241m.\u001b[39mz1 \u001b[38;5;241m=\u001b[39m [np\u001b[38;5;241m.\u001b[39mdot(\u001b[38;5;28mself\u001b[39m\u001b[38;5;241m.\u001b[39mw1[i],x) \u001b[38;5;241m+\u001b[39m \u001b[38;5;28mself\u001b[39m\u001b[38;5;241m.\u001b[39mb1[i] \u001b[38;5;28;01mfor\u001b[39;00m i \u001b[38;5;129;01min\u001b[39;00m \u001b[38;5;28mrange\u001b[39m(\u001b[38;5;28mlen\u001b[39m(\u001b[38;5;28mself\u001b[39m\u001b[38;5;241m.\u001b[39mb1))]\n\u001b[1;32m---> 27\u001b[0m     \u001b[38;5;28mself\u001b[39m\u001b[38;5;241m.\u001b[39ma1 \u001b[38;5;241m=\u001b[39m [sigmoid(z) \u001b[38;5;28;01mfor\u001b[39;00m z \u001b[38;5;129;01min\u001b[39;00m \u001b[38;5;28mself\u001b[39m\u001b[38;5;241m.\u001b[39mz1]\n\u001b[0;32m     28\u001b[0m     \u001b[38;5;28mself\u001b[39m\u001b[38;5;241m.\u001b[39mz2 \u001b[38;5;241m=\u001b[39m [np\u001b[38;5;241m.\u001b[39mdot(\u001b[38;5;28mself\u001b[39m\u001b[38;5;241m.\u001b[39mw2[i],\u001b[38;5;28mself\u001b[39m\u001b[38;5;241m.\u001b[39ma1) \u001b[38;5;241m+\u001b[39m \u001b[38;5;28mself\u001b[39m\u001b[38;5;241m.\u001b[39mb2[i] \u001b[38;5;28;01mfor\u001b[39;00m i \u001b[38;5;129;01min\u001b[39;00m \u001b[38;5;28mrange\u001b[39m(\u001b[38;5;28mlen\u001b[39m(\u001b[38;5;28mself\u001b[39m\u001b[38;5;241m.\u001b[39mb2))]\n\u001b[0;32m     29\u001b[0m     \u001b[38;5;28mself\u001b[39m\u001b[38;5;241m.\u001b[39ma2 \u001b[38;5;241m=\u001b[39m softmax(\u001b[38;5;28mself\u001b[39m\u001b[38;5;241m.\u001b[39mz2)\n",
      "Cell \u001b[1;32mIn[127], line 2\u001b[0m, in \u001b[0;36msigmoid\u001b[1;34m(x)\u001b[0m\n\u001b[0;32m      1\u001b[0m \u001b[38;5;28;01mdef\u001b[39;00m \u001b[38;5;21msigmoid\u001b[39m(x):\n\u001b[1;32m----> 2\u001b[0m     \u001b[38;5;28;01mreturn\u001b[39;00m \u001b[38;5;241m1\u001b[39m \u001b[38;5;241m/\u001b[39m (\u001b[38;5;241m1\u001b[39m \u001b[38;5;241m+\u001b[39m math\u001b[38;5;241m.\u001b[39mexp(\u001b[38;5;241m-\u001b[39mx))\n",
      "\u001b[1;31mOverflowError\u001b[0m: math range error"
     ]
    }
   ],
   "source": [
    "def sigmoid(x):\n",
    "    return 1 / (1 + math.exp(-x))\n",
    "\n",
    "def sigmoid_derivative(x):\n",
    "    return x * (1 - x)\n",
    "\n",
    "def softmax(logits):\n",
    "    exp_logits = [math.exp(i) for i in logits]\n",
    "    sum_exp_logits = sum(exp_logits)\n",
    "    return [i / sum_exp_logits for i in exp_logits]\n",
    "\n",
    "def cross_entropy_loss(y_true, y_pred):\n",
    "    # Clipping y_pred to avoid log(0)\n",
    "    y_pred = [max(min(p, 1 - 1e-15), 1e-15) for p in y_pred]\n",
    "    return -sum(y_true[i] * math.log(y_pred[i]) for i in range(len(y_true)))\n",
    "\n",
    "class NN:\n",
    "    def __init__(self, input_size, hidden_size, output_size):\n",
    "        # Initialize weights and biases\n",
    "        self.w1 = np.random.randn(hidden_size, input_size)\n",
    "        self.b1 = np.zeros(hidden_size)\n",
    "        self.w2 = np.random.randn(output_size, hidden_size)\n",
    "        self.b2 = np.zeros(output_size)\n",
    "\n",
    "    def forward(self, x):\n",
    "        self.z1 = [np.dot(self.w1[i],x) + self.b1[i] for i in range(len(self.b1))]\n",
    "        self.a1 = [sigmoid(z) for z in self.z1]\n",
    "        self.z2 = [np.dot(self.w2[i],self.a1) + self.b2[i] for i in range(len(self.b2))]\n",
    "        self.a2 = softmax(self.z2)\n",
    "        return self.a2\n",
    "\n",
    "    def backward(self, x, y):\n",
    "        output_errors = [self.a2[i] - y[i] for i in range(len(y))]\n",
    "        hidden_errors = [sum(output_errors[j] * self.w2[i][j] for j in range(len(output_errors))) * sigmoid_derivative(self.a1[i]) for i in range(len(self.a1))]\n",
    "\n",
    "        # Update weights and biases\n",
    "        for i in range(len(self.w2)):\n",
    "            for j in range(len(self.w2[i])):\n",
    "                self.w2[i][j] -= 0.01 * output_errors[j] * self.a1[i]\n",
    "        for i in range(len(self.b2)):\n",
    "            self.b2[i] -= 0.01 * output_errors[i]\n",
    "\n",
    "        for i in range(len(self.w1)):\n",
    "            for j in range(len(self.w1[i])):\n",
    "                self.w1[i][j] -= 0.01 * hidden_errors[j] * x[i]\n",
    "        for i in range(len(self.b1)):\n",
    "            self.b1[i] -= 0.01 * hidden_errors[i]\n",
    "\n",
    "    def train(self, x_train, y_train, epochs):\n",
    "        losses = []\n",
    "        for epoch in range(epochs):\n",
    "            total_loss = 0\n",
    "            for x, yc in zip(x_train, y_train):\n",
    "                output = self.forward(x)\n",
    "                loss = cross_entropy_loss(yc, output)\n",
    "                total_loss += loss\n",
    "                self.backward(x, yc)\n",
    "            losses.append(total_loss / len(x_train))\n",
    "            print(f'Epoch {epoch + 1}/{epochs}, Loss: {total_loss / len(x_train)}')\n",
    "        return losses\n",
    "\n",
    "(xtrain, ytrain), (xval, yval), num_cls = load_mnist()\n",
    "\n",
    "nn = NN(input_size=784, hidden_size=300, output_size=10)\n",
    "\n",
    "losses = nn.train(xtrain[:100], ytrain[:100], epochs=1)\n"
   ]
  },
  {
   "cell_type": "code",
   "execution_count": 126,
   "metadata": {},
   "outputs": [
    {
     "data": {
      "text/plain": [
       "(784,)"
      ]
     },
     "execution_count": 126,
     "metadata": {},
     "output_type": "execute_result"
    }
   ],
   "source": [
    "w1 = [[random.gauss(0, 1) for _ in range(300)] for _ in range(784)]\n",
    "# w1 made using numpy\n",
    "w1 = np.random.randn(300, 784)\n",
    "xtrain.shape\n",
    "w1[i].shape\n",
    "#np.dot(w1[:,0],xtrain[0])"
   ]
  },
  {
   "cell_type": "code",
<<<<<<< HEAD
   "execution_count": null,
   "metadata": {},
   "outputs": [],
   "source": [
    "yprime = deriv(y)\n",
    "for i in len(h):\n",
    "    vprime[i] = yprime + h[i]\n",
    "    hprime[i] = yprime + v[i]\n",
    "cprime = yprime\n",
    "\n",
    "for i in len(k):\n",
    "    kprime[i] = hprime[i] + h[i] * (1 - h[i])\n",
    "\n",
    "for j in len(k):\n",
    "    for i in len(w)/len(k):\n",
    "        wprime[i,j] = kprime[j] * x[i]\n",
    "    bprime[j] = kprime[j]"
=======
   "execution_count": 75,
   "metadata": {},
   "outputs": [
    {
     "name": "stdout",
     "output_type": "stream",
     "text": [
      "Accuracy: 1.0\n"
     ]
    }
   ],
   "source": [
    "#validate\n",
    "correct = 0\n",
    "for x, y in zip(xval[:100], yval[:100]):\n",
    "    output = nn.forward(x)\n",
    "    if output.index(max(output)) == y:\n",
    "        correct += 1\n",
    "print(f'Accuracy: {correct / 100}')"
   ]
  },
  {
   "cell_type": "code",
   "execution_count": 49,
   "metadata": {},
   "outputs": [
    {
     "data": {
      "image/png": "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",
      "text/plain": [
       "<Figure size 640x480 with 1 Axes>"
      ]
     },
     "metadata": {},
     "output_type": "display_data"
    }
   ],
   "source": [
    "import matplotlib.pyplot as plt\n",
    "plt.plot(losses)\n",
    "plt.title('Loss over epochs')\n",
    "plt.xlabel('Epoch')\n",
    "plt.ylabel('Loss')\n",
    "plt.show()"
>>>>>>> 5887fc208a783300b78a46ecf7eedbebc52c8865
   ]
  }
 ],
 "metadata": {
  "kernelspec": {
   "display_name": "base",
   "language": "python",
   "name": "python3"
  },
  "language_info": {
   "codemirror_mode": {
    "name": "ipython",
    "version": 3
   },
   "file_extension": ".py",
   "mimetype": "text/x-python",
   "name": "python",
   "nbconvert_exporter": "python",
   "pygments_lexer": "ipython3",
   "version": "3.11.7"
  }
 },
 "nbformat": 4,
 "nbformat_minor": 2
}
