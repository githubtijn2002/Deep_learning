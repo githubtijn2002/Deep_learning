{
 "cells": [
  {
   "cell_type": "code",
   "execution_count": 60,
   "metadata": {},
   "outputs": [],
   "source": [
    "import math\n",
    "def sigmoid(x):\n",
    "    return 1 / (1 + math.exp(-x))\n",
    "\n",
    "def softmax(x):\n",
    "    max_x = max(x)\n",
    "    e_x = [math.exp(i - max_x) for i in x]\n",
    "    \n",
    "    # Compute the sum of exponentials\n",
    "    sum_e_x = sum(e_x)\n",
    "    \n",
    "    # Compute softmax values\n",
    "    softmax_values = [i / sum_e_x for i in e_x]\n",
    "    \n",
    "    return softmax_values\n",
    "\n",
    "def cross_entropy_loss(y_correct, y):\n",
    "    return -sum([y_correct[i] * math.log(y[i]) for i in range(len(y_correct))])"
   ]
  },
  {
   "cell_type": "code",
   "execution_count": 61,
   "metadata": {},
   "outputs": [
    {
     "data": {
      "text/plain": [
       "0.6931471805599453"
      ]
     },
     "execution_count": 61,
     "metadata": {},
     "output_type": "execute_result"
    }
   ],
   "source": [
    "w = [[1,1,1],[-1,-1,-1]]\n",
    "v = [[1,1],[-1,-1],[-1,-1]]\n",
    "k = [0,0,0]\n",
    "b = [0,0,0]\n",
    "c = [0,0]\n",
    "x = [1, -1]\n",
    "h = [0,0,0]\n",
    "y = 0\n",
    "s = [0,0]\n",
    "yc = [1,0]\n",
    "\n",
    "for j in range(3):\n",
    "    for i in range(2):\n",
    "        k[j] += w[i][j] * x[i]\n",
    "    k[j] += b[j]\n",
    "\n",
    "for i in range(3):\n",
    "    h[i] = sigmoid(k[i])\n",
    "\n",
    "for j in range(2):\n",
    "    for i in range(3):\n",
    "        s[j] += v[i][j]\n",
    "    s[j] += c[j]\n",
    "y = softmax(s)\n",
    "cross_entropy_loss(yc, y)"
   ]
  },
  {
   "cell_type": "code",
   "execution_count": null,
   "metadata": {},
   "outputs": [],
   "source": [
    "yprime = deriv(y)\n",
    "for i in len(h):\n",
    "    vprime[i] = yprime + h[i]\n",
    "    hprime[i] = yprime + v[i]\n",
    "cprime = yprime\n",
    "\n",
    "for i in len(k):\n",
    "    kprime[i] = hprime[i] + h[i] * (1 - h[i])\n",
    "\n",
    "for j in len(k):\n",
    "    for i in len(w)/len(k):\n",
    "        wprime[i,j] = kprime[j] * x[i]\n",
    "    bprime[j] = kprime[j]"
   ]
  }
 ],
 "metadata": {
  "kernelspec": {
   "display_name": "base",
   "language": "python",
   "name": "python3"
  },
  "language_info": {
   "codemirror_mode": {
    "name": "ipython",
    "version": 3
   },
   "file_extension": ".py",
   "mimetype": "text/x-python",
   "name": "python",
   "nbconvert_exporter": "python",
   "pygments_lexer": "ipython3",
   "version": "3.11.7"
  }
 },
 "nbformat": 4,
 "nbformat_minor": 2
}
